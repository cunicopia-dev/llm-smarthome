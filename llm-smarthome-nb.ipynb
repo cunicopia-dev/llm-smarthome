{
 "cells": [
  {
   "cell_type": "code",
   "execution_count": 1,
   "id": "e1ebf659-bcaf-4263-968e-c091d1351a59",
   "metadata": {},
   "outputs": [],
   "source": [
    "# Import packages\n",
    "import ollama\n",
    "import langchain\n",
    "import sys\n",
    "import os\n",
    "import json\n",
    "import pandas as pd\n",
    "import numpy as np\n",
    "\n",
    "# Other stuff\n",
    "from langchain_community.embeddings import OllamaEmbeddings\n",
    "from langchain_text_splitters import RecursiveCharacterTextSplitter\n",
    "from langchain_community.vectorstores import Chroma\n",
    "from langchain.document_loaders import UnstructuredPDFLoader\n",
    "from langchain.document_loaders import OnlinePDFLoader"
   ]
  },
  {
   "cell_type": "code",
   "execution_count": 2,
   "id": "44a84a14-0f3f-45f3-8379-f04994823108",
   "metadata": {},
   "outputs": [
    {
     "name": "stdout",
     "output_type": "stream",
     "text": [
      "/mnt/gigadrive/llm-smarthome/venv\n"
     ]
    }
   ],
   "source": [
    "# Check your venv\n",
    "print(sys.prefix)"
   ]
  },
  {
   "cell_type": "code",
   "execution_count": 3,
   "id": "6b3af500-627d-462f-8f11-0cceb6c60056",
   "metadata": {
    "scrolled": true
   },
   "outputs": [
    {
     "name": "stdout",
     "output_type": "stream",
     "text": [
      "NAME                           \tID          \tSIZE  \tMODIFIED       \n",
      "codellama:13b-instruct-fp16    \t220d80e5d12b\t26 GB \t27 hours ago  \t\n",
      "codellama:13b-instruct-q8_0    \t196822804b09\t13 GB \t27 hours ago  \t\n",
      "codellama:13b-python-fp16      \t46a84a4b71b0\t26 GB \t27 hours ago  \t\n",
      "dolphin-mixtral:latest         \tcfada4ba31c7\t26 GB \t29 hours ago  \t\n",
      "mistral:7b-instruct-fp16       \t7334da3db4d2\t14 GB \t33 hours ago  \t\n",
      "mistral:7b-instruct-v0.2-fp16  \t094d67ff087c\t14 GB \t33 hours ago  \t\n",
      "mixtral:8x7b-instruct-v0.1-q8_0\ta6689be5de7d\t49 GB \t33 hours ago  \t\n",
      "mixtral:latest                 \t7708c059a8bb\t26 GB \t2 days ago    \t\n",
      "mxbai-embed-large:latest       \t468836162de7\t669 MB\t45 minutes ago\t\n"
     ]
    }
   ],
   "source": [
    "!ollama list"
   ]
  },
  {
   "cell_type": "code",
   "execution_count": 4,
   "id": "95d41591-bce6-4fd5-b7bb-61f650eb4b82",
   "metadata": {},
   "outputs": [
    {
     "name": "stderr",
     "output_type": "stream",
     "text": [
      "[nltk_data] Downloading package punkt to /home/kc/nltk_data...\n",
      "[nltk_data]   Unzipping tokenizers/punkt.zip.\n",
      "[nltk_data] Downloading package averaged_perceptron_tagger to\n",
      "[nltk_data]     /home/kc/nltk_data...\n",
      "[nltk_data]   Unzipping taggers/averaged_perceptron_tagger.zip.\n"
     ]
    }
   ],
   "source": [
    "file = \"./data/GE.pdf\"\n",
    "\n",
    "if file:\n",
    "    loader = UnstructuredPDFLoader(file_path=file)\n",
    "    data = loader.load()\n",
    "else:\n",
    "    print(\"Stupid idiot\")"
   ]
  },
  {
   "cell_type": "code",
   "execution_count": null,
   "id": "0c2df3e1-ca3d-498e-9eef-bf8e0a93020c",
   "metadata": {},
   "outputs": [],
   "source": []
  },
  {
   "cell_type": "code",
   "execution_count": null,
   "id": "9729de93-0bc6-4f3e-8340-e6e42cc97ac9",
   "metadata": {},
   "outputs": [],
   "source": []
  },
  {
   "cell_type": "code",
   "execution_count": null,
   "id": "93bf0e3d-0f7e-4da3-b4d8-548066c6d90f",
   "metadata": {},
   "outputs": [],
   "source": [
    "text_splitter = RecursiveCharacterTextSplitter(chunk_size=512,chunk_overlap=100)"
   ]
  }
 ],
 "metadata": {
  "kernelspec": {
   "display_name": "Python 3 (ipykernel)",
   "language": "python",
   "name": "python3"
  },
  "language_info": {
   "codemirror_mode": {
    "name": "ipython",
    "version": 3
   },
   "file_extension": ".py",
   "mimetype": "text/x-python",
   "name": "python",
   "nbconvert_exporter": "python",
   "pygments_lexer": "ipython3",
   "version": "3.12.2"
  }
 },
 "nbformat": 4,
 "nbformat_minor": 5
}
